{
 "cells": [
  {
   "cell_type": "markdown",
   "metadata": {},
   "source": [
    "# Flaredown user similarity by condition"
   ]
  },
  {
   "cell_type": "markdown",
   "metadata": {},
   "source": [
    "## Configuration"
   ]
  },
  {
   "cell_type": "code",
   "execution_count": 1,
   "metadata": {
    "collapsed": true
   },
   "outputs": [],
   "source": [
    "# Production DB credentials\n",
    "MONGO_HOST = \"candidate.53.mongolayer.com\"\n",
    "MONGO_PORT = 10549\n",
    "MONGO_DBNAME = \"production\"\n",
    "MONGO_USERNAME = \"production\"\n",
    "MONGO_PASSWORD = \"8WfakpFkMtFkxP7n\""
   ]
  },
  {
   "cell_type": "markdown",
   "metadata": {},
   "source": [
    "## Extract data"
   ]
  },
  {
   "cell_type": "code",
   "execution_count": 2,
   "metadata": {
    "collapsed": true
   },
   "outputs": [],
   "source": [
    "import pymongo"
   ]
  },
  {
   "cell_type": "code",
   "execution_count": 3,
   "metadata": {
    "collapsed": false
   },
   "outputs": [
    {
     "data": {
      "text/plain": [
       "True"
      ]
     },
     "execution_count": 3,
     "metadata": {},
     "output_type": "execute_result"
    }
   ],
   "source": [
    "client = pymongo.MongoClient(MONGO_HOST, MONGO_PORT)\n",
    "db = client[MONGO_DBNAME]\n",
    "db.authenticate(MONGO_USERNAME, MONGO_PASSWORD)"
   ]
  },
  {
   "cell_type": "code",
   "execution_count": 4,
   "metadata": {
    "collapsed": false
   },
   "outputs": [],
   "source": [
    "def users_conditions():\n",
    "    # grab every condition each user has ever tracked\n",
    "    results = list(db.entries.aggregate(\n",
    "        [\n",
    "            {\"$group\": {\"_id\": \"$user_id\", \"conditions\": {\"$addToSet\": \"$conditions\"}}}\n",
    "        ]\n",
    "    ))\n",
    "    users = [result[\"_id\"] for result in results]\n",
    "    conditions = [[condition.lower() for condition in result[\"conditions\"][0]] for result in results]\n",
    "    return users, conditions\n",
    "\n",
    "users, texts = users_conditions()  # in topic modelling terms, user = text, condition = vocab_item"
   ]
  },
  {
   "cell_type": "markdown",
   "metadata": {},
   "source": [
    "## Build model"
   ]
  },
  {
   "cell_type": "code",
   "execution_count": 5,
   "metadata": {
    "collapsed": false
   },
   "outputs": [],
   "source": [
    "from gensim import corpora, models\n",
    "\n",
    "dictionary = corpora.Dictionary(texts)  # build dictionary, which maps condition to id\n",
    "dictionary.save(\"/tmp/conditions.dict\")\n",
    "\n",
    "corpus = [dictionary.doc2bow(text) for text in texts]  # transform the texts into a vector stream corpus\n",
    "corpora.MmCorpus.serialize(\"/tmp/corpus.mm\", corpus)"
   ]
  },
  {
   "cell_type": "code",
   "execution_count": 6,
   "metadata": {
    "collapsed": true
   },
   "outputs": [],
   "source": [
    "TF_IDF = False\n",
    "\n",
    "tfidf = models.TfidfModel(corpus)\n",
    "corpus_tfidf = tfidf[corpus]\n",
    "\n",
    "if TF_IDF:\n",
    "    corpus = corpus_tfidf"
   ]
  },
  {
   "cell_type": "code",
   "execution_count": 7,
   "metadata": {
    "collapsed": false
   },
   "outputs": [],
   "source": [
    "# initialize model with high number of topics to apply 'elbow rule' below\n",
    "lsi_full = models.LsiModel(corpus, id2word=dictionary, num_topics=20)\n",
    "corpus_lsi_full = lsi_full[corpus]  # apply model to corpus"
   ]
  },
  {
   "cell_type": "code",
   "execution_count": 8,
   "metadata": {
    "collapsed": false
   },
   "outputs": [
    {
     "data": {
      "image/png": "[encoded data removed]",
      "text/plain": [
       "<matplotlib.figure.Figure at 0x1099b0c50>"
      ]
     },
     "metadata": {},
     "output_type": "display_data"
    }
   ],
   "source": [
    "%matplotlib inline\n",
    "from matplotlib import pyplot as plt\n",
    "\n",
    "MAGIC_NUMBER = 3  # find where the plotted line becomes much less steep\n",
    "                  # this is the optimal number of topics in the corpus\n",
    "\n",
    "fig = plt.figure()\n",
    "ax = fig.add_subplot(1, 1, 1)\n",
    "\n",
    "ax.plot(lsi_full.projection.s)\n",
    "ax.axvline(MAGIC_NUMBER - 1, color='k', linestyle='--')\n",
    "ax.set_xticks(list(ax.get_xticks()) + [MAGIC_NUMBER - 1])\n",
    "ax.set_xticklabels([int(x + 1) for x in ax.get_xticks()])\n",
    "ax.set_xlabel(\"Number of topics\")\n",
    "ax.set_ylabel(\"Singular values\")\n",
    "\n",
    "plt.show()"
   ]
  },
  {
   "cell_type": "code",
   "execution_count": 9,
   "metadata": {
    "collapsed": true
   },
   "outputs": [],
   "source": [
    "# initialize model with high number of topics to apply 'elbow rule' below\n",
    "lsi_optimal = models.LsiModel(corpus, id2word=dictionary, num_topics=MAGIC_NUMBER)\n",
    "corpus_lsi_optimal = lsi_optimal[corpus]  # apply model to corpus"
   ]
  },
  {
   "cell_type": "markdown",
   "metadata": {},
   "source": [
    "## Construct pairwise similarity metric"
   ]
  },
  {
   "cell_type": "code",
   "execution_count": 10,
   "metadata": {
    "collapsed": false
   },
   "outputs": [],
   "source": [
    "from scipy import spatial"
   ]
  },
  {
   "cell_type": "code",
   "execution_count": 11,
   "metadata": {
    "collapsed": false
   },
   "outputs": [],
   "source": [
    "def similar(a, b):\n",
    "    if a not in users:\n",
    "        return \"User {} does not exist.\".format(a)\n",
    "    if b not in users:\n",
    "        return \"User {} does not exist.\".format(b)\n",
    "\n",
    "    a_i = users.index(a)\n",
    "    b_i = users.index(b)\n",
    "\n",
    "    a_coords = [tup[1] for tup in corpus_lsi_optimal[a_i]]\n",
    "    b_coords = [tup[1] for tup in corpus_lsi_optimal[b_i]]\n",
    "    \n",
    "    if len(a_coords) == 0:\n",
    "        return \"User {} has not tracked any conditions.\".format(a)\n",
    "    if len(b_coords) == 0:\n",
    "        return \"User {} has not tracked any conditions.\".format(b)\n",
    "    \n",
    "    return 1 - spatial.distance.cosine(a_coords, b_coords)"
   ]
  },
  {
   "cell_type": "markdown",
   "metadata": {},
   "source": [
    "## Demonstration of similarity"
   ]
  },
  {
   "cell_type": "code",
   "execution_count": 12,
   "metadata": {
    "collapsed": true
   },
   "outputs": [],
   "source": [
    "def conditions_for_user(user_id):\n",
    "    if user_id not in users:\n",
    "        return \"User {} does not exist.\".format(user_id)\n",
    "    return texts[users.index(user_id)]"
   ]
  },
  {
   "cell_type": "code",
   "execution_count": 13,
   "metadata": {
    "collapsed": false
   },
   "outputs": [],
   "source": [
    "def pretty_similarity(a, b):\n",
    "    print(\"{}: \".format(a), conditions_for_user(a))\n",
    "    print(\"{}: \".format(b), conditions_for_user(b))\n",
    "    try:\n",
    "        print(\"Similarity: \", \"{:.2f}\".format(similar(a, b)))\n",
    "    except ValueError:\n",
    "        print(\"Cannot compute similarity.\")\n"
   ]
  },
  {
   "cell_type": "code",
   "execution_count": 14,
   "metadata": {
    "collapsed": false
   },
   "outputs": [
    {
     "name": "stdout",
     "output_type": "stream",
     "text": [
      "200:  ['lupus', 'migraine']\n",
      "479:  ['fibromyalgia', 'polycystic ovary syndrome', 'tmj disorders', 'trigeminal neuralgia', 'persistent genital arousal disorder', 'migraine', 'hypothyroidism']\n",
      "Similarity:  0.74\n",
      "None\n"
     ]
    }
   ],
   "source": [
    "print(pretty_similarity(200, 479))"
   ]
  },
  {
   "cell_type": "markdown",
   "metadata": {},
   "source": [
    "## Global similarity"
   ]
  },
  {
   "cell_type": "code",
   "execution_count": 15,
   "metadata": {
    "collapsed": true
   },
   "outputs": [],
   "source": [
    "from gensim import similarities\n",
    "\n",
    "index = similarities.MatrixSimilarity(lsi_optimal[corpus])\n",
    "index.save(\"/tmp/conditions.index\")"
   ]
  },
  {
   "cell_type": "code",
   "execution_count": 16,
   "metadata": {
    "collapsed": false
   },
   "outputs": [],
   "source": [
    "def global_similarity(user_id):\n",
    "    if user_id not in users:\n",
    "        return \"User {} does not exist.\".format(user_id)\n",
    "    user_similarities = [(users[i], score) for i, score in enumerate(index[corpus_lsi_optimal[users.index(user_id)]])]\n",
    "    return sorted(user_similarities, key=lambda x: x[1], reverse=True)"
   ]
  },
  {
   "cell_type": "code",
   "execution_count": 17,
   "metadata": {
    "collapsed": false
   },
   "outputs": [],
   "source": [
    "def pretty_neighbours(user_id):\n",
    "    if user_id not in users:\n",
    "        print(\"User {} does not exist.\".format(user_id))\n",
    "    print(\"{0}         {1}\".format(user_id, conditions_for_user(user_id)))\n",
    "    print(\"----------------------\")\n",
    "    for user in global_similarity(user_id)[1:20]:\n",
    "        print(\"{0[0]}: {0[1]:.2f}   {1}\".format(user, conditions_for_user(user[0])))"
   ]
  },
  {
   "cell_type": "code",
   "execution_count": 18,
   "metadata": {
    "collapsed": false
   },
   "outputs": [
    {
     "name": "stdout",
     "output_type": "stream",
     "text": [
      "975         ['arthritis', 'fibromyalgia', 'gerd', 'insomnia', 'migraine', 'herniated disks', 'spondylitis', 'post concussive syndrome', 'ibd']\n",
      "----------------------\n",
      "479: 1.00   ['fibromyalgia', 'polycystic ovary syndrome', 'tmj disorders', 'trigeminal neuralgia', 'persistent genital arousal disorder', 'migraine', 'hypothyroidism']\n",
      "147: 1.00   ['bipolar disorder', 'fibromyalgia', 'migraine']\n",
      "649: 1.00   ['asthma', 'chronic fatigue syndrome', 'diabetes', 'fibromyalgia', 'migraine', 'pots']\n",
      "631: 1.00   ['arthritis', 'fibromyalgia', 'migraine', 'plantar fasciitis', 'ibs']\n",
      "291: 1.00   ['fibromyalgia', 'migraine', 'myalgic encephalomyelitis', 'generalized anxiety disorder']\n",
      "961: 1.00   ['fibromyalgia', 'migraine', 'occipital neuralgia']\n",
      "574: 1.00   ['fibromyalgia', 'migraine']\n",
      "240: 1.00   ['fibromyalgia', 'migraine']\n",
      "444: 1.00   ['fibromyalgia', 'migraine']\n",
      "65: 1.00   ['fibromyalgia', 'irritable bowel syndrome', 'migraine', 'osteoarthritis']\n",
      "735: 1.00   ['fibromyalgia', 'migraine', 'polycystic ovary syndrome']\n",
      "101: 1.00   ['fibromyalgia', 'irritable bowel syndrome', 'asthma', 'food intolerances']\n",
      "48: 1.00   ['sarcoidosis']\n",
      "274: 0.99   ['chronic fatigue syndrome', 'fibromyalgia', 'irritable bowel syndrome', 'migraine']\n",
      "623: 0.99   ['chronic fatigue syndrome', 'fibromyalgia', 'ehlers-danlos syndrome', \"raynaud's disease\", 'blood clotting disorder', 'anemia', 'deep vein thrombosis', 'epistaxis', 'chronic migraines', 'endocrine disorder', 'panic attacks', 'chronic anxiety', 'hypersomnolence', 'sensory processing disorder', 'dysthymia', 'allergies', 'obsessive-compulsive disorder', 'mitral valve prolapse', 'ptsd', 'psychopathy', 'eating problems', 'social anxiety', 'irritability', 'urinary incontinence']\n",
      "167: 0.99   ['chronic fatigue syndrome', 'migraine', 'irritable bladder']\n",
      "277: 0.99   ['asthma', 'fibromyalgia', 'headaches', 'migraine', 'rebound headaches', 'eczema', 'chronic back pain', 'bipolar type ii']\n",
      "36: 0.99   ['back pain', 'chronic fatigue syndrome', 'gerd', 'migraine', 'seborrheic dermatitis', 'occipital neuralgia', 'patellofemoral joint pain', 'ovary pain']\n",
      "708: 0.98   ['chronic fatigue syndrome', 'irritable bowel syndrome', 'dysautonomia', 'joint pain', 'reflux']\n",
      "None\n"
     ]
    }
   ],
   "source": [
    "print(pretty_neighbours(975))"
   ]
  },
  {
   "cell_type": "code",
   "execution_count": null,
   "metadata": {
    "collapsed": true
   },
   "outputs": [],
   "source": []
  }
 ],
 "metadata": {
  "kernelspec": {
   "display_name": "Python 3",
   "language": "python",
   "name": "python3"
  },
  "language_info": {
   "codemirror_mode": {
    "name": "ipython",
    "version": 3
   },
   "file_extension": ".py",
   "mimetype": "text/x-python",
   "name": "python",
   "nbconvert_exporter": "python",
   "pygments_lexer": "ipython3",
   "version": "3.4.4"
  }
 },
 "nbformat": 4,
 "nbformat_minor": 0
}
